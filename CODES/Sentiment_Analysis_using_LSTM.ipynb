{
  "nbformat": 4,
  "nbformat_minor": 5,
  "metadata": {
    "kernelspec": {
      "display_name": "Python 3",
      "language": "python",
      "name": "python3"
    },
    "language_info": {
      "codemirror_mode": {
        "name": "ipython",
        "version": 3
      },
      "file_extension": ".py",
      "mimetype": "text/x-python",
      "name": "python",
      "nbconvert_exporter": "python",
      "pygments_lexer": "ipython3",
      "version": "3.8.0"
    },
    "colab": {
      "name": "Sentiment Analysis using LSTM.ipynb",
      "provenance": [],
      "collapsed_sections": []
    }
  },
  "cells": [
    {
      "cell_type": "markdown",
      "metadata": {
        "id": "d42af45e"
      },
      "source": [
        "## Sentiment Analysis using LSTM"
      ],
      "id": "d42af45e"
    },
    {
      "cell_type": "code",
      "metadata": {
        "id": "b8691038"
      },
      "source": [
        "#Function to classify the statement as positive or negative\n",
        "def predict_sentiment(text):\n",
        "    tw = tokenizer.texts_to_sequences([text])\n",
        "    tw = pad_sequences(tw,maxlen=200)\n",
        "    prediction = int(model.predict(tw).round().item())\n",
        "    print(sentiment_label[1][prediction], \"statement\")"
      ],
      "id": "b8691038",
      "execution_count": 1,
      "outputs": []
    },
    {
      "cell_type": "code",
      "metadata": {
        "id": "e7500ab9"
      },
      "source": [
        "import pandas as pd\n",
        "import matplotlib.pyplot as plt\n",
        "import time\n",
        "\n",
        "from tensorflow.keras.preprocessing.text import Tokenizer\n",
        "from tensorflow.keras.preprocessing.sequence import pad_sequences\n",
        "from tensorflow.keras.models import Sequential\n",
        "from tensorflow.keras.layers import LSTM,Dense, Dropout, SpatialDropout1D\n",
        "from tensorflow.keras.layers import Embedding\n",
        "\n",
        "#Read Data from csv file\n",
        "df = pd.read_csv(\"./Data.csv\")"
      ],
      "id": "e7500ab9",
      "execution_count": 24,
      "outputs": []
    },
    {
      "cell_type": "code",
      "metadata": {
        "id": "92a7ed66"
      },
      "source": [
        "#Process data for training\n",
        "data_df = df[['text','sentiment']] #Extracting only text and sentiment from data\n",
        "data_df = data_df[data_df['sentiment'] != 'neutral'] #Removing Neutral Sentiment\n",
        "sentiment_label = data_df.sentiment.factorize() #Finding unique sentiment values\n",
        "data = data_df.text.values\n",
        "data = data[0:-1] #Removing NaN values in the data\n",
        "\n",
        "#Tokenizing data into separate words\n",
        "tokenizer = Tokenizer(num_words=5000)\n",
        "tokenizer.fit_on_texts(data)\n",
        "vocab_size = len(tokenizer.word_index) + 1\n",
        "encoded_docs = tokenizer.texts_to_sequences(data)\n",
        "padded_sequence = pad_sequences(encoded_docs, maxlen=200)"
      ],
      "id": "92a7ed66",
      "execution_count": 28,
      "outputs": []
    },
    {
      "cell_type": "code",
      "metadata": {
        "id": "938a50d1"
      },
      "source": [
        "#Describing model specifications for training\n",
        "embedding_vector_length = 32\n",
        "model = Sequential() \n",
        "model.add(Embedding(vocab_size, embedding_vector_length, input_length=200) )\n",
        "model.add(SpatialDropout1D(0.25))\n",
        "model.add(LSTM(50, dropout=0.5, recurrent_dropout=0.5))\n",
        "model.add(Dropout(0.2))\n",
        "model.add(Dense(1, activation='sigmoid')) \n",
        "model.compile(loss='binary_crossentropy',optimizer='adam', metrics=['accuracy'])  "
      ],
      "id": "938a50d1",
      "execution_count": 29,
      "outputs": []
    },
    {
      "cell_type": "code",
      "metadata": {
        "colab": {
          "base_uri": "https://localhost:8080/"
        },
        "id": "ab82873c",
        "outputId": "d528e8df-6238-4bd2-83ba-10a706718bdd"
      },
      "source": [
        "#Training the model\n",
        "time1 = time.time()\n",
        "history = model.fit(padded_sequence,sentiment_label[0],validation_split=0.2, epochs=5, batch_size=32)\n",
        "time2 = time.time()\n",
        "\n",
        "print(\"Training time:\",time2-time1)"
      ],
      "id": "ab82873c",
      "execution_count": 30,
      "outputs": [
        {
          "output_type": "stream",
          "name": "stdout",
          "text": [
            "Epoch 1/5\n",
            "289/289 [==============================] - 77s 259ms/step - loss: 0.3998 - accuracy: 0.8302 - val_loss: 0.2088 - val_accuracy: 0.9216\n",
            "Epoch 2/5\n",
            "289/289 [==============================] - 74s 257ms/step - loss: 0.2183 - accuracy: 0.9175 - val_loss: 0.1770 - val_accuracy: 0.9363\n",
            "Epoch 3/5\n",
            "289/289 [==============================] - 74s 257ms/step - loss: 0.1601 - accuracy: 0.9398 - val_loss: 0.1692 - val_accuracy: 0.9406\n",
            "Epoch 4/5\n",
            "289/289 [==============================] - 74s 257ms/step - loss: 0.1338 - accuracy: 0.9501 - val_loss: 0.1748 - val_accuracy: 0.9402\n",
            "Epoch 5/5\n",
            "289/289 [==============================] - 74s 257ms/step - loss: 0.1152 - accuracy: 0.9582 - val_loss: 0.2016 - val_accuracy: 0.9411\n",
            "Training time: 384.7027611732483\n"
          ]
        }
      ]
    },
    {
      "cell_type": "code",
      "metadata": {
        "colab": {
          "base_uri": "https://localhost:8080/"
        },
        "id": "a8318f8a",
        "outputId": "0a793b8b-c451-4acd-b601-01ee9bd97bdd"
      },
      "source": [
        "#Testing different cases\n",
        "sentence1 = \"Horrible experience\"\n",
        "predict_sentiment(sentence1)\n",
        "\n",
        "sentence2 = \"Fun experience\"\n",
        "predict_sentiment(sentence2)"
      ],
      "id": "a8318f8a",
      "execution_count": 31,
      "outputs": [
        {
          "output_type": "stream",
          "name": "stdout",
          "text": [
            "negative statement\n",
            "positive statement\n"
          ]
        }
      ]
    }
  ]
}