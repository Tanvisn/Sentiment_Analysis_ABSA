{
  "nbformat": 4,
  "nbformat_minor": 5,
  "metadata": {
    "kernelspec": {
      "display_name": "Python 3",
      "language": "python",
      "name": "python3"
    },
    "language_info": {
      "codemirror_mode": {
        "name": "ipython",
        "version": 3
      },
      "file_extension": ".py",
      "mimetype": "text/x-python",
      "name": "python",
      "nbconvert_exporter": "python",
      "pygments_lexer": "ipython3",
      "version": "3.8.0"
    },
    "colab": {
      "name": "Sentiment Analysis using SVM.ipynb",
      "provenance": [],
      "collapsed_sections": []
    }
  },
  "cells": [
    {
      "cell_type": "markdown",
      "metadata": {
        "id": "d42af45e"
      },
      "source": [
        "## Sentiment Analysis using SVM"
      ],
      "id": "d42af45e"
    },
    {
      "cell_type": "code",
      "metadata": {
        "id": "b8691038"
      },
      "source": [
        "#Function to classify the statement as positive or negative\n",
        "def predict_sentiment(text):\n",
        "    vectorizer = TfidfVectorizer(min_df = 5, max_df = 0.8, sublinear_tf = True, use_idf = True)\n",
        "    test_vector = vectorizer.fit_transform(text)\n",
        "    prediction = int(SVM.predict(test_vector))\n",
        "    print(sentiment_label[1][prediction], \"statement\")"
      ],
      "id": "b8691038",
      "execution_count": 26,
      "outputs": []
    },
    {
      "cell_type": "code",
      "metadata": {
        "id": "e7500ab9"
      },
      "source": [
        "import pandas as pd\n",
        "import matplotlib.pyplot as plt\n",
        "import time\n",
        "\n",
        "from sklearn.feature_extraction.text import TfidfVectorizer\n",
        "from sklearn import svm\n",
        "from sklearn.metrics import classification_report\n",
        "\n",
        "# train Data\n",
        "trainData = pd.read_csv(\"https://raw.githubusercontent.com/Vasistareddy/sentiment_analysis/master/data/train.csv\")\n",
        "# test Data\n",
        "testData = pd.read_csv(\"https://raw.githubusercontent.com/Vasistareddy/sentiment_analysis/master/data/test.csv\")"
      ],
      "id": "e7500ab9",
      "execution_count": 75,
      "outputs": []
    },
    {
      "cell_type": "code",
      "metadata": {
        "id": "92a7ed66"
      },
      "source": [
        "# Create feature vectors\n",
        "vectorizer = TfidfVectorizer(min_df = 5, max_df = 0.8, sublinear_tf = True, use_idf = True)\n",
        "train_vectors = vectorizer.fit_transform(trainData['Content'])\n",
        "test_vectors = vectorizer.transform(testData['Content'])"
      ],
      "id": "92a7ed66",
      "execution_count": 89,
      "outputs": []
    },
    {
      "cell_type": "code",
      "metadata": {
        "id": "938a50d1",
        "colab": {
          "base_uri": "https://localhost:8080/"
        },
        "outputId": "7595c197-cb03-48a9-a24d-134653318936"
      },
      "source": [
        "#Describing model specifications for training\n",
        "\n",
        "# Perform classification with SVM, kernel=linear\n",
        "SVM = svm.SVC(kernel='linear')\n",
        "t_start = time.time()\n",
        "SVM.fit(train_vectors, trainData['Label'])\n",
        "t_train = time.time()\n",
        "prediction_linear = SVM.predict(test_vectors)\n",
        "t_pred = time.time()\n",
        "train_time = t_train-t_start\n",
        "pred_time = t_pred-t_train\n",
        "# results\n",
        "print(\"Training time: %fs; Prediction time: %fs\" % (train_time, pred_time))\n",
        "\n",
        "report = classification_report(testData['Label'], prediction_linear, output_dict=True)\n",
        "print('positive: ', report['pos'])\n",
        "print('negative: ', report['neg'])"
      ],
      "id": "938a50d1",
      "execution_count": 90,
      "outputs": [
        {
          "output_type": "stream",
          "name": "stdout",
          "text": [
            "Training time: 9.810706s; Prediction time: 0.953786s\n",
            "positive:  {'precision': 0.9191919191919192, 'recall': 0.91, 'f1-score': 0.9145728643216081, 'support': 100}\n",
            "negative:  {'precision': 0.9108910891089109, 'recall': 0.92, 'f1-score': 0.9154228855721394, 'support': 100}\n"
          ]
        }
      ]
    }
  ]
}